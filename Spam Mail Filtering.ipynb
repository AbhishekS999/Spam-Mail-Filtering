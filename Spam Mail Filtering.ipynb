{
 "cells": [
  {
   "cell_type": "markdown",
   "id": "4d24a500",
   "metadata": {},
   "source": [
    "# Spam Mail Filtering using multiple ML algorithms"
   ]
  },
  {
   "cell_type": "markdown",
   "id": "8d6deaaf",
   "metadata": {},
   "source": [
    "### This notebook will able to differenciate between Ham and Spam mails.\n",
    "### To start this project we need some important library and required data."
   ]
  },
  {
   "cell_type": "markdown",
   "id": "8b3462a0",
   "metadata": {},
   "source": [
    "#### Importing a bunch of libraries"
   ]
  },
  {
   "cell_type": "code",
   "execution_count": 1,
   "id": "2c23c7d8",
   "metadata": {},
   "outputs": [],
   "source": [
    "import pandas as pd\n",
    "import numpy as np\n",
    "import matplotlib.pyplot as plt\n",
    "import nltk\n",
    "from nltk.corpus import stopwords\n",
    "from sklearn.feature_extraction.text import CountVectorizer\n",
    "from sklearn.model_selection import train_test_split\n",
    "from sklearn.naive_bayes import MultinomialNB\n",
    "from sklearn.neighbors import KNeighborsClassifier\n",
    "from sklearn.ensemble import RandomForestClassifier\n",
    "from sklearn.ensemble import AdaBoostClassifier\n",
    "from sklearn.svm import LinearSVC\n",
    "from sklearn.metrics import f1_score,accuracy_score"
   ]
  },
  {
   "cell_type": "markdown",
   "id": "918f9060",
   "metadata": {},
   "source": [
    "#### To remove unwanted word from our data we need to download stopword from nltk library"
   ]
  },
  {
   "cell_type": "code",
   "execution_count": 2,
   "id": "6a8db731",
   "metadata": {},
   "outputs": [
    {
     "name": "stderr",
     "output_type": "stream",
     "text": [
      "[nltk_data] Downloading package stopwords to C:\\Users\\Abhishek\n",
      "[nltk_data]     Sahu\\AppData\\Roaming\\nltk_data...\n",
      "[nltk_data]   Package stopwords is already up-to-date!\n"
     ]
    },
    {
     "data": {
      "text/plain": [
       "True"
      ]
     },
     "execution_count": 2,
     "metadata": {},
     "output_type": "execute_result"
    }
   ],
   "source": [
    "nltk.download('stopwords')"
   ]
  },
  {
   "cell_type": "markdown",
   "id": "b52c6fae",
   "metadata": {},
   "source": [
    "### Data Loading"
   ]
  },
  {
   "cell_type": "markdown",
   "id": "0bb100b1",
   "metadata": {},
   "source": [
    "#### To begin with, we have imported our required data"
   ]
  },
  {
   "cell_type": "code",
   "execution_count": 3,
   "id": "53ebf2af",
   "metadata": {},
   "outputs": [],
   "source": [
    "#read data in CSV format according to your PC's address\n",
    "raw_data = pd.read_csv(\"spam1.csv\")"
   ]
  },
  {
   "cell_type": "markdown",
   "id": "0266ae55",
   "metadata": {},
   "source": [
    "### Data PreProcessing"
   ]
  },
  {
   "cell_type": "code",
   "execution_count": 4,
   "id": "0a4295f0",
   "metadata": {},
   "outputs": [
    {
     "data": {
      "text/plain": [
       "(5171, 4)"
      ]
     },
     "execution_count": 4,
     "metadata": {},
     "output_type": "execute_result"
    }
   ],
   "source": [
    "raw_data.shape"
   ]
  },
  {
   "cell_type": "code",
   "execution_count": 5,
   "id": "9bc466ae",
   "metadata": {},
   "outputs": [
    {
     "data": {
      "text/html": [
       "<div>\n",
       "<style scoped>\n",
       "    .dataframe tbody tr th:only-of-type {\n",
       "        vertical-align: middle;\n",
       "    }\n",
       "\n",
       "    .dataframe tbody tr th {\n",
       "        vertical-align: top;\n",
       "    }\n",
       "\n",
       "    .dataframe thead th {\n",
       "        text-align: right;\n",
       "    }\n",
       "</style>\n",
       "<table border=\"1\" class=\"dataframe\">\n",
       "  <thead>\n",
       "    <tr style=\"text-align: right;\">\n",
       "      <th></th>\n",
       "      <th>Unnamed: 0</th>\n",
       "      <th>label</th>\n",
       "      <th>text</th>\n",
       "      <th>label_num</th>\n",
       "    </tr>\n",
       "  </thead>\n",
       "  <tbody>\n",
       "    <tr>\n",
       "      <th>0</th>\n",
       "      <td>605</td>\n",
       "      <td>ham</td>\n",
       "      <td>Subject: enron methanol ; meter # : 988291\\nth...</td>\n",
       "      <td>0</td>\n",
       "    </tr>\n",
       "    <tr>\n",
       "      <th>1</th>\n",
       "      <td>2349</td>\n",
       "      <td>ham</td>\n",
       "      <td>Subject: hpl nom for january 9 , 2001\\n( see a...</td>\n",
       "      <td>0</td>\n",
       "    </tr>\n",
       "    <tr>\n",
       "      <th>2</th>\n",
       "      <td>3624</td>\n",
       "      <td>ham</td>\n",
       "      <td>Subject: neon retreat\\nho ho ho , we ' re arou...</td>\n",
       "      <td>0</td>\n",
       "    </tr>\n",
       "    <tr>\n",
       "      <th>3</th>\n",
       "      <td>4685</td>\n",
       "      <td>spam</td>\n",
       "      <td>Subject: photoshop , windows , office . cheap ...</td>\n",
       "      <td>1</td>\n",
       "    </tr>\n",
       "    <tr>\n",
       "      <th>4</th>\n",
       "      <td>2030</td>\n",
       "      <td>ham</td>\n",
       "      <td>Subject: re : indian springs\\nthis deal is to ...</td>\n",
       "      <td>0</td>\n",
       "    </tr>\n",
       "  </tbody>\n",
       "</table>\n",
       "</div>"
      ],
      "text/plain": [
       "   Unnamed: 0 label                                               text  \\\n",
       "0         605   ham  Subject: enron methanol ; meter # : 988291\\nth...   \n",
       "1        2349   ham  Subject: hpl nom for january 9 , 2001\\n( see a...   \n",
       "2        3624   ham  Subject: neon retreat\\nho ho ho , we ' re arou...   \n",
       "3        4685  spam  Subject: photoshop , windows , office . cheap ...   \n",
       "4        2030   ham  Subject: re : indian springs\\nthis deal is to ...   \n",
       "\n",
       "   label_num  \n",
       "0          0  \n",
       "1          0  \n",
       "2          0  \n",
       "3          1  \n",
       "4          0  "
      ]
     },
     "execution_count": 5,
     "metadata": {},
     "output_type": "execute_result"
    }
   ],
   "source": [
    "raw_data.head()"
   ]
  },
  {
   "cell_type": "code",
   "execution_count": 6,
   "id": "6d907960",
   "metadata": {},
   "outputs": [],
   "source": [
    "dict1 = {\"Class\":raw_data.label, \"Text\":raw_data.text}           # extracting Class and Text label from original dataset\n",
    "data = pd.DataFrame(dict1)       "
   ]
  },
  {
   "cell_type": "code",
   "execution_count": 7,
   "id": "5fbb63d6",
   "metadata": {},
   "outputs": [
    {
     "data": {
      "text/html": [
       "<div>\n",
       "<style scoped>\n",
       "    .dataframe tbody tr th:only-of-type {\n",
       "        vertical-align: middle;\n",
       "    }\n",
       "\n",
       "    .dataframe tbody tr th {\n",
       "        vertical-align: top;\n",
       "    }\n",
       "\n",
       "    .dataframe thead th {\n",
       "        text-align: right;\n",
       "    }\n",
       "</style>\n",
       "<table border=\"1\" class=\"dataframe\">\n",
       "  <thead>\n",
       "    <tr style=\"text-align: right;\">\n",
       "      <th></th>\n",
       "      <th>Class</th>\n",
       "      <th>Text</th>\n",
       "    </tr>\n",
       "  </thead>\n",
       "  <tbody>\n",
       "    <tr>\n",
       "      <th>0</th>\n",
       "      <td>ham</td>\n",
       "      <td>Subject: enron methanol ; meter # : 988291\\nth...</td>\n",
       "    </tr>\n",
       "    <tr>\n",
       "      <th>1</th>\n",
       "      <td>ham</td>\n",
       "      <td>Subject: hpl nom for january 9 , 2001\\n( see a...</td>\n",
       "    </tr>\n",
       "    <tr>\n",
       "      <th>2</th>\n",
       "      <td>ham</td>\n",
       "      <td>Subject: neon retreat\\nho ho ho , we ' re arou...</td>\n",
       "    </tr>\n",
       "    <tr>\n",
       "      <th>3</th>\n",
       "      <td>spam</td>\n",
       "      <td>Subject: photoshop , windows , office . cheap ...</td>\n",
       "    </tr>\n",
       "    <tr>\n",
       "      <th>4</th>\n",
       "      <td>ham</td>\n",
       "      <td>Subject: re : indian springs\\nthis deal is to ...</td>\n",
       "    </tr>\n",
       "  </tbody>\n",
       "</table>\n",
       "</div>"
      ],
      "text/plain": [
       "  Class                                               Text\n",
       "0   ham  Subject: enron methanol ; meter # : 988291\\nth...\n",
       "1   ham  Subject: hpl nom for january 9 , 2001\\n( see a...\n",
       "2   ham  Subject: neon retreat\\nho ho ho , we ' re arou...\n",
       "3  spam  Subject: photoshop , windows , office . cheap ...\n",
       "4   ham  Subject: re : indian springs\\nthis deal is to ..."
      ]
     },
     "execution_count": 7,
     "metadata": {},
     "output_type": "execute_result"
    }
   ],
   "source": [
    "data.head()"
   ]
  },
  {
   "cell_type": "code",
   "execution_count": 8,
   "id": "b530f7cc",
   "metadata": {},
   "outputs": [
    {
     "name": "stdout",
     "output_type": "stream",
     "text": [
      "Unique values in the Class set:  ['ham' 'spam']\n"
     ]
    }
   ],
   "source": [
    "data['numClass'] = data['Class'].map({'ham':0, 'spam':1}) # converting all the ham and spam values to 1 and 0 respectively\n",
    "\n",
    "# Unique values in target set\n",
    "print(\"Unique values in the Class set: \", data.Class.unique())"
   ]
  },
  {
   "cell_type": "code",
   "execution_count": 9,
   "id": "b56c36c5",
   "metadata": {},
   "outputs": [
    {
     "data": {
      "text/html": [
       "<div>\n",
       "<style scoped>\n",
       "    .dataframe tbody tr th:only-of-type {\n",
       "        vertical-align: middle;\n",
       "    }\n",
       "\n",
       "    .dataframe tbody tr th {\n",
       "        vertical-align: top;\n",
       "    }\n",
       "\n",
       "    .dataframe thead th {\n",
       "        text-align: right;\n",
       "    }\n",
       "</style>\n",
       "<table border=\"1\" class=\"dataframe\">\n",
       "  <thead>\n",
       "    <tr style=\"text-align: right;\">\n",
       "      <th></th>\n",
       "      <th>Class</th>\n",
       "      <th>Text</th>\n",
       "      <th>numClass</th>\n",
       "    </tr>\n",
       "  </thead>\n",
       "  <tbody>\n",
       "    <tr>\n",
       "      <th>0</th>\n",
       "      <td>ham</td>\n",
       "      <td>Subject: enron methanol ; meter # : 988291\\nth...</td>\n",
       "      <td>0</td>\n",
       "    </tr>\n",
       "    <tr>\n",
       "      <th>1</th>\n",
       "      <td>ham</td>\n",
       "      <td>Subject: hpl nom for january 9 , 2001\\n( see a...</td>\n",
       "      <td>0</td>\n",
       "    </tr>\n",
       "    <tr>\n",
       "      <th>2</th>\n",
       "      <td>ham</td>\n",
       "      <td>Subject: neon retreat\\nho ho ho , we ' re arou...</td>\n",
       "      <td>0</td>\n",
       "    </tr>\n",
       "    <tr>\n",
       "      <th>3</th>\n",
       "      <td>spam</td>\n",
       "      <td>Subject: photoshop , windows , office . cheap ...</td>\n",
       "      <td>1</td>\n",
       "    </tr>\n",
       "    <tr>\n",
       "      <th>4</th>\n",
       "      <td>ham</td>\n",
       "      <td>Subject: re : indian springs\\nthis deal is to ...</td>\n",
       "      <td>0</td>\n",
       "    </tr>\n",
       "  </tbody>\n",
       "</table>\n",
       "</div>"
      ],
      "text/plain": [
       "  Class                                               Text  numClass\n",
       "0   ham  Subject: enron methanol ; meter # : 988291\\nth...         0\n",
       "1   ham  Subject: hpl nom for january 9 , 2001\\n( see a...         0\n",
       "2   ham  Subject: neon retreat\\nho ho ho , we ' re arou...         0\n",
       "3  spam  Subject: photoshop , windows , office . cheap ...         1\n",
       "4   ham  Subject: re : indian springs\\nthis deal is to ...         0"
      ]
     },
     "execution_count": 9,
     "metadata": {},
     "output_type": "execute_result"
    }
   ],
   "source": [
    "data.head()"
   ]
  },
  {
   "cell_type": "code",
   "execution_count": 10,
   "id": "f07a4c9b",
   "metadata": {},
   "outputs": [
    {
     "name": "stdout",
     "output_type": "stream",
     "text": [
      "['they', 'theirs', 'you', 'both', 'during', 'yourself', 'are', 'through', 'do', 'same', 'and', 'will', 'having', 'll', 'just', \"shan't\", 'few', 'mightn', 'needn', 'until', 'when', 'his', \"you'll\", 'was', \"mightn't\", 'me', 'after', 'ours', 'himself', 'out', 'being', 'an', 'd', 'haven', 'very', 'most', \"aren't\", 'any', 'hasn', \"should've\", 'above', 'to', 'my', 'of', 'not', 'some', 'their', \"haven't\", \"you're\", \"needn't\", \"wouldn't\", \"you've\", 'her', 'yourselves', 'this', 'as', 'with', 'then', 'hers', \"that'll\", 'who', 'been', 'other', 'whom', 'had', 'against', \"doesn't\", 'our', 're', \"don't\", 'what', 'it', 'shan', 'over', 'nor', \"hadn't\", 'yours', 'in', \"couldn't\", 'won', \"she's\", 'into', 'further', 'we', 'ain', 'under', 'below', 'were', 'before', 'where', 'but', 'be', 'aren', 'these', 'those', 'too', 'o', \"you'd\", 'hadn', 'wouldn', 'doesn', 'all', 'y', 'have', 'between', 'its', 'own', 'him', 'each', 'no', 'am', 'than', 'which', 'more', 'm', 'is', 'while', 't', \"mustn't\", 'he', 'does', 'or', 'couldn', 'down', 'why', 'itself', 'if', 'how', 'from', \"won't\", 'such', 'don', 'your', 'should', 'doing', 'herself', 'ma', 'once', 'so', 'off', 'didn', 'by', \"isn't\", 'mustn', 's', 'a', 'i', 'on', \"weren't\", 'isn', 'myself', 'can', \"it's\", 'ourselves', 'she', 'that', 'for', 've', 'there', 'did', 'only', \"wasn't\", 'again', 'weren', 'wasn', \"hasn't\", 'the', 'because', 'shouldn', \"shouldn't\", 'about', 'them', 'has', 'here', \"didn't\", 'at', 'themselves', 'up', 'now']\n"
     ]
    }
   ],
   "source": [
    "#Removing stopwords of English\n",
    "stopset = set(stopwords.words(\"english\"))\n",
    "print(list(stopset))             # List of stopwords as per nltk library"
   ]
  },
  {
   "cell_type": "code",
   "execution_count": 11,
   "id": "1c9817f1",
   "metadata": {},
   "outputs": [
    {
     "data": {
      "text/plain": [
       "Class       0\n",
       "Text        0\n",
       "numClass    0\n",
       "dtype: int64"
      ]
     },
     "execution_count": 11,
     "metadata": {},
     "output_type": "execute_result"
    }
   ],
   "source": [
    "data.isnull().sum()   # checking for nnull value"
   ]
  },
  {
   "cell_type": "code",
   "execution_count": 12,
   "id": "395fb092",
   "metadata": {},
   "outputs": [
    {
     "data": {
      "text/plain": [
       "Class       0\n",
       "Text        0\n",
       "numClass    0\n",
       "dtype: int64"
      ]
     },
     "execution_count": 12,
     "metadata": {},
     "output_type": "execute_result"
    }
   ],
   "source": [
    "data.dropna(inplace=True)            # droppinf of null value if present\n",
    "data.isnull().sum()"
   ]
  },
  {
   "cell_type": "code",
   "execution_count": 13,
   "id": "bb39d94b",
   "metadata": {},
   "outputs": [
    {
     "name": "stdout",
     "output_type": "stream",
     "text": [
      "Number of ham messages in data set: 3672\n",
      "Number of spam messages in data set: 1499\n"
     ]
    }
   ],
   "source": [
    "# printing number of ham and spam messages in the dataset\n",
    "\n",
    "ham  = data[data.numClass == 0]\n",
    "print(\"Number of ham messages in data set:\", ham['Class'].count())\n",
    "\n",
    "spam = data[data.numClass == 1]\n",
    "print(\"Number of spam messages in data set:\", spam['Class'].count())"
   ]
  },
  {
   "cell_type": "markdown",
   "id": "79b0acfd",
   "metadata": {},
   "source": [
    "### Initializing CountVectorizer"
   ]
  },
  {
   "cell_type": "markdown",
   "id": "122b80de",
   "metadata": {},
   "source": [
    "#### It will take the word count from every mail's text and make a matrix of it as we cannot train our ML model on Textual data. This matrix will help ML algorithm to predict which is spamand which is not."
   ]
  },
  {
   "cell_type": "code",
   "execution_count": 14,
   "id": "5c005495",
   "metadata": {},
   "outputs": [],
   "source": [
    "#Initialising Count Vectorizer\n",
    "vectorizer = CountVectorizer(stop_words=stopset,binary=True)\n",
    "vectorizer = CountVectorizer()\n"
   ]
  },
  {
   "cell_type": "markdown",
   "id": "6c8a17c4",
   "metadata": {},
   "source": [
    "### Splitting of data into Training and Testing part"
   ]
  },
  {
   "cell_type": "code",
   "execution_count": 17,
   "id": "89893468",
   "metadata": {},
   "outputs": [
    {
     "name": "stdout",
     "output_type": "stream",
     "text": [
      "\n",
      "\n",
      "Training set has 3619 samples.\n",
      "Testing set has 1552 samples.\n",
      "\n",
      "\n"
     ]
    }
   ],
   "source": [
    "    \n",
    "X = vectorizer.fit_transform(data.Text)\n",
    "# Extract target column 'Class'\n",
    "y = data.numClass\n",
    "\n",
    "#Performing test train Split \n",
    "X_train, X_test, y_train, y_test = train_test_split(X, y, test_size=0.30, train_size=0.70, random_state=None)\n",
    "\n",
    "# Show the results of the split\n",
    "print(\"\\n\")\n",
    "print(\"Training set has {} samples.\".format(X_train.shape[0]))\n",
    "print(\"Testing set has {} samples.\".format(X_test.shape[0]))\n",
    "print(\"\\n\")"
   ]
  },
  {
   "cell_type": "code",
   "execution_count": 18,
   "id": "5d5c6850",
   "metadata": {},
   "outputs": [
    {
     "data": {
      "text/plain": [
       "0       0\n",
       "1       0\n",
       "2       0\n",
       "3       1\n",
       "4       0\n",
       "       ..\n",
       "5166    0\n",
       "5167    0\n",
       "5168    0\n",
       "5169    0\n",
       "5170    1\n",
       "Name: numClass, Length: 5171, dtype: int64"
      ]
     },
     "execution_count": 18,
     "metadata": {},
     "output_type": "execute_result"
    }
   ],
   "source": [
    "data.numClass"
   ]
  },
  {
   "cell_type": "code",
   "execution_count": 19,
   "id": "185825db",
   "metadata": {},
   "outputs": [
    {
     "data": {
      "text/plain": [
       "1499"
      ]
     },
     "execution_count": 19,
     "metadata": {},
     "output_type": "execute_result"
    }
   ],
   "source": [
    "data[(data['Class'] == 'spam')]['Class'].count()"
   ]
  },
  {
   "cell_type": "code",
   "execution_count": 20,
   "id": "09b0e0dd",
   "metadata": {},
   "outputs": [
    {
     "data": {
      "text/plain": [
       "1499"
      ]
     },
     "execution_count": 20,
     "metadata": {},
     "output_type": "execute_result"
    }
   ],
   "source": [
    "data[data[\"Class\"] == 'spam'][\"Class\"].count()"
   ]
  },
  {
   "cell_type": "code",
   "execution_count": 21,
   "id": "98e29360",
   "metadata": {},
   "outputs": [
    {
     "data": {
      "image/png": "[encoded data removed]",
      "text/plain": [
       "<Figure size 640x480 with 1 Axes>"
      ]
     },
     "metadata": {},
     "output_type": "display_data"
    }
   ],
   "source": [
    "plt.pie([data[(data['Class'] == 'spam')]['Class'].count(), data[(data['Class'] == 'ham')]['Class'].count()], autopct='%0.2f%%', labels=['Spam', \"Ham\"], pctdistance = 0.5, wedgeprops = {'linewidth': 2, \"edgecolor\" : \"black\"}, explode=[0, 0.1])\n",
    "plt.show()     # Makes a Pie Chart"
   ]
  },
  {
   "cell_type": "markdown",
   "id": "40f0ecc4",
   "metadata": {},
   "source": [
    "### Defining function to train and predict labels from classifier"
   ]
  },
  {
   "cell_type": "code",
   "execution_count": 22,
   "id": "75a28d0f",
   "metadata": {},
   "outputs": [],
   "source": [
    "objects = ('Multi-NB','SVM','KNN', 'RF', 'AdaBoost')\n",
    "\n",
    "def train_classifier(clf, X_train, y_train):    \n",
    "    clf.fit(X_train, y_train)\n",
    "\n",
    "# function to predict features \n",
    "def predict_labels(clf, features):\n",
    "    return(clf.predict(features))"
   ]
  },
  {
   "cell_type": "markdown",
   "id": "56091360",
   "metadata": {},
   "source": [
    "### Defining ML models to different variable"
   ]
  },
  {
   "cell_type": "code",
   "execution_count": 23,
   "id": "9e58620a",
   "metadata": {},
   "outputs": [],
   "source": [
    "# Initialize the five models\n",
    "A = MultinomialNB(alpha=1.0,fit_prior=True)\n",
    "B = LinearSVC()\n",
    "C = KNeighborsClassifier(n_neighbors=1)\n",
    "D = RandomForestClassifier(n_estimators=100, random_state=None)\n",
    "E = AdaBoostClassifier(n_estimators=10)\n"
   ]
  },
  {
   "cell_type": "markdown",
   "id": "f36d606c",
   "metadata": {},
   "source": [
    "### Finding Performance Matrics to find efficiency of all the ML models"
   ]
  },
  {
   "cell_type": "code",
   "execution_count": 24,
   "id": "559e82f5",
   "metadata": {},
   "outputs": [
    {
     "name": "stdout",
     "output_type": "stream",
     "text": [
      "Multi-NB\n",
      "Accuracy in %:\n",
      "98.4536082474227\n",
      "F1 Score\n",
      "0.9728506787330317\n",
      "\n",
      "\n",
      "SVM\n",
      "Accuracy in %:\n",
      "96.52061855670104\n",
      "F1 Score\n",
      "0.9394618834080717\n",
      "\n",
      "\n",
      "KNN\n"
     ]
    },
    {
     "name": "stderr",
     "output_type": "stream",
     "text": [
      "c:\\users\\abhishek sahu\\appdata\\local\\programs\\python\\python37\\lib\\site-packages\\sklearn\\svm\\_base.py:1208: ConvergenceWarning: Liblinear failed to converge, increase the number of iterations.\n",
      "  ConvergenceWarning,\n"
     ]
    },
    {
     "name": "stdout",
     "output_type": "stream",
     "text": [
      "Accuracy in %:\n",
      "89.2396907216495\n",
      "F1 Score\n",
      "0.8236536430834214\n",
      "\n",
      "\n",
      "RF\n",
      "Accuracy in %:\n",
      "97.22938144329896\n",
      "F1 Score\n",
      "0.951412429378531\n",
      "\n",
      "\n",
      "AdaBoost\n",
      "Accuracy in %:\n",
      "88.59536082474226\n",
      "F1 Score\n",
      "0.8276533592989289\n",
      "\n",
      "\n"
     ]
    }
   ],
   "source": [
    "clf = [A,B,C,D,E]\n",
    "acc_score = [0,0,0,0,0]\n",
    "\n",
    "# finding the performance score of each model\n",
    "for a in range(0,5):\n",
    "    print(objects[a])\n",
    "    train_classifier(clf[a], X_train, y_train)\n",
    "    y_pred = predict_labels(clf[a],X_test)\n",
    "    pred_val = f1_score(y_test, y_pred)\n",
    "    acc_score[a]=accuracy_score(y_test, y_pred)\n",
    "    print(\"Accuracy in %:\")\n",
    "    print(acc_score[a]*100)\n",
    "    print(\"F1 Score\")\n",
    "    print(pred_val)\n",
    "    print(\"\\n\")\n"
   ]
  },
  {
   "cell_type": "markdown",
   "id": "44fbad73",
   "metadata": {},
   "source": [
    "### Bar chart to visualize Accuracy of every model"
   ]
  },
  {
   "cell_type": "code",
   "execution_count": 25,
   "id": "2297e187",
   "metadata": {},
   "outputs": [
    {
     "data": {
      "image/png": "[encoded data removed]",
      "text/plain": [
       "<Figure size 640x480 with 1 Axes>"
      ]
     },
     "metadata": {},
     "output_type": "display_data"
    }
   ],
   "source": [
    "x_pos = np.arange(len(objects))\n",
    "y_pos = [x*100 for x in acc_score]\n",
    "plt.bar(x_pos,y_pos, align='center', alpha=0.7, color=['black', 'red', 'green', 'blue', 'cyan'])\n",
    "plt.xticks(x_pos, objects)\n",
    "plt.ylabel('Accuracy Score')\n",
    "plt.title('Accuracy of Models')\n",
    "plt.show()"
   ]
  },
  {
   "cell_type": "code",
   "execution_count": null,
   "id": "972cb807",
   "metadata": {},
   "outputs": [],
   "source": []
  }
 ],
 "metadata": {
  "kernelspec": {
   "display_name": "Python 3 (ipykernel)",
   "language": "python",
   "name": "python3"
  },
  "language_info": {
   "codemirror_mode": {
    "name": "ipython",
    "version": 3
   },
   "file_extension": ".py",
   "mimetype": "text/x-python",
   "name": "python",
   "nbconvert_exporter": "python",
   "pygments_lexer": "ipython3",
   "version": "3.7.6"
  }
 },
 "nbformat": 4,
 "nbformat_minor": 5
}
